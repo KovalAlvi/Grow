{
 "cells": [
  {
   "cell_type": "code",
   "execution_count": 1,
   "metadata": {},
   "outputs": [],
   "source": [
    "import numpy as np\n"
   ]
  },
  {
   "cell_type": "code",
   "execution_count": 6,
   "metadata": {},
   "outputs": [
    {
     "name": "stdout",
     "output_type": "stream",
     "text": [
      "[1 2 3 4 5]\n"
     ]
    }
   ],
   "source": [
    "x = np.array([2,1,4,3,5])\n",
    "np.sort(x)\n",
    "x.sort()\n",
    "print(x)"
   ]
  },
  {
   "cell_type": "code",
   "execution_count": 10,
   "metadata": {},
   "outputs": [
    {
     "name": "stdout",
     "output_type": "stream",
     "text": [
      "[1 0 3 2 4] [1 2 3 4 5]\n"
     ]
    }
   ],
   "source": [
    "x = np.array([2,1,4,3,5])\n",
    "i = np.argsort(x) # Выводит номера аргументов, то как они должны быть отсортированны\n",
    "print(i, x[i])\n"
   ]
  },
  {
   "cell_type": "markdown",
   "metadata": {},
   "source": [
    "### Sorting along rows and colomns"
   ]
  },
  {
   "cell_type": "code",
   "execution_count": 40,
   "metadata": {},
   "outputs": [
    {
     "data": {
      "text/plain": [
       "array([[6, 3, 7, 4, 6, 9],\n",
       "       [2, 6, 7, 4, 3, 7],\n",
       "       [7, 2, 5, 4, 1, 7],\n",
       "       [5, 1, 4, 0, 9, 5]])"
      ]
     },
     "execution_count": 40,
     "metadata": {},
     "output_type": "execute_result"
    }
   ],
   "source": [
    "rand = np.random.RandomState(42)\n",
    "X = rand.randint(0,10,(4,6))\n",
    "X"
   ]
  },
  {
   "cell_type": "code",
   "execution_count": 42,
   "metadata": {},
   "outputs": [
    {
     "data": {
      "text/plain": [
       "array([[2, 1, 4, 0, 1, 5],\n",
       "       [5, 2, 5, 4, 3, 7],\n",
       "       [6, 3, 7, 4, 6, 7],\n",
       "       [7, 6, 7, 4, 9, 9]])"
      ]
     },
     "execution_count": 42,
     "metadata": {},
     "output_type": "execute_result"
    }
   ],
   "source": [
    "np.sort(X, axis=0) #меняются связи между строчками"
   ]
  },
  {
   "cell_type": "markdown",
   "metadata": {},
   "source": [
    "### Partial sorting"
   ]
  },
  {
   "cell_type": "code",
   "execution_count": 52,
   "metadata": {},
   "outputs": [
    {
     "data": {
      "text/plain": [
       "array([2, 1, 3, 4, 6, 5, 7])"
      ]
     },
     "execution_count": 52,
     "metadata": {},
     "output_type": "execute_result"
    }
   ],
   "source": [
    "x = np.array([7,2,3,1,6,5,4])\n",
    "np.partition(x, 3) #три самых маленьких значения вначале стоят"
   ]
  },
  {
   "cell_type": "markdown",
   "metadata": {},
   "source": [
    "### Example: K-NN"
   ]
  },
  {
   "cell_type": "code",
   "execution_count": 56,
   "metadata": {},
   "outputs": [],
   "source": [
    "X = rand.rand(10,2)\n"
   ]
  },
  {
   "cell_type": "code",
   "execution_count": 59,
   "metadata": {},
   "outputs": [
    {
     "data": {
      "text/plain": [
       "<matplotlib.collections.PathCollection at 0x121d5a8f588>"
      ]
     },
     "execution_count": 59,
     "metadata": {},
     "output_type": "execute_result"
    },
    {
     "data": {
      "image/png": "[encoded data removed]",
      "text/plain": [
       "<Figure size 432x288 with 1 Axes>"
      ]
     },
     "metadata": {},
     "output_type": "display_data"
    }
   ],
   "source": [
    "%matplotlib inline\n",
    "import matplotlib.pyplot as plt\n",
    "import seaborn; seaborn.set()\n",
    "plt.scatter(X[:,0], X[:,1], s=100)"
   ]
  },
  {
   "cell_type": "code",
   "execution_count": 64,
   "metadata": {},
   "outputs": [
    {
     "data": {
      "text/plain": [
       "array([[0.        , 0.15051406, 0.1405466 , 0.32292363, 0.50203426,\n",
       "        1.02046572, 0.33017808, 0.94866988, 0.16609382, 0.19872033],\n",
       "       [0.15051406, 0.        , 0.11871086, 0.03425379, 0.52667471,\n",
       "        0.99676458, 0.30156543, 0.84129265, 0.41821187, 0.02293751],\n",
       "       [0.1405466 , 0.11871086, 0.        , 0.18151542, 0.15391124,\n",
       "        0.46636629, 0.05033748, 0.38856886, 0.1317014 , 0.06311092],\n",
       "       [0.32292363, 0.03425379, 0.18151542, 0.        , 0.57164624,\n",
       "        0.9897328 , 0.33861435, 0.80286603, 0.59826884, 0.03065408],\n",
       "       [0.50203426, 0.52667471, 0.15391124, 0.57164624, 0.        ,\n",
       "        0.09101881, 0.03145098, 0.07993914, 0.17823498, 0.36028304],\n",
       "       [1.02046572, 0.99676458, 0.46636629, 0.9897328 , 0.09101881,\n",
       "        0.        , 0.2104603 , 0.01644311, 0.48513352, 0.73899268],\n",
       "       [0.33017808, 0.30156543, 0.05033748, 0.33861435, 0.03145098,\n",
       "        0.2104603 , 0.        , 0.1618874 , 0.15057399, 0.17907733],\n",
       "       [0.94866988, 0.84129265, 0.38856886, 0.80286603, 0.07993914,\n",
       "        0.01644311, 0.1618874 , 0.        , 0.4951323 , 0.59702045],\n",
       "       [0.16609382, 0.41821187, 0.1317014 , 0.59826884, 0.17823498,\n",
       "        0.48513352, 0.15057399, 0.4951323 , 0.        , 0.36078024],\n",
       "       [0.19872033, 0.02293751, 0.06311092, 0.03065408, 0.36028304,\n",
       "        0.73899268, 0.17907733, 0.59702045, 0.36078024, 0.        ]])"
      ]
     },
     "execution_count": 64,
     "metadata": {},
     "output_type": "execute_result"
    }
   ],
   "source": [
    "dist_sq = np.sum((X[:, np.newaxis, :] -X[np.newaxis,:,:])**2, axis=-1)\n",
    "dist_sq"
   ]
  },
  {
   "cell_type": "code",
   "execution_count": 75,
   "metadata": {},
   "outputs": [
    {
     "name": "stdout",
     "output_type": "stream",
     "text": [
      "(10, 1, 2) (1, 10, 2)\n"
     ]
    }
   ],
   "source": [
    "print( X[:, np.newaxis, :].shape, X[np.newaxis,:,:].shape)"
   ]
  },
  {
   "cell_type": "code",
   "execution_count": 92,
   "metadata": {},
   "outputs": [
    {
     "name": "stdout",
     "output_type": "stream",
     "text": [
      "(10, 10, 2)\n",
      "(10, 10, 2)\n",
      "(10, 10)\n"
     ]
    }
   ],
   "source": [
    "#Объяснение того что произошло немного выше. По этапное представление\n",
    "differences = X[:, np.newaxis, :] - X[np.newaxis,:,:]\n",
    "print(differences.shape)\n",
    "sq_differences = differences **2\n",
    "print(sq_differences.shape)\n",
    "dist_sq = sq_differences.sum(-1) #Указываешь по какой размерности производить сложение.(по последней)\n",
    "print(dist_sq.shape)\n",
    "\n"
   ]
  },
  {
   "cell_type": "code",
   "execution_count": 94,
   "metadata": {},
   "outputs": [
    {
     "data": {
      "text/plain": [
       "array([0., 0., 0., 0., 0., 0., 0., 0., 0., 0.])"
      ]
     },
     "execution_count": 94,
     "metadata": {},
     "output_type": "execute_result"
    }
   ],
   "source": [
    "dist_sq.diagonal() # кроме того она ещё и симметричная"
   ]
  },
  {
   "cell_type": "code",
   "execution_count": 106,
   "metadata": {},
   "outputs": [
    {
     "data": {
      "text/plain": [
       "array([[0, 2, 1, 8, 9, 3, 6, 4, 7, 5],\n",
       "       [1, 9, 3, 2, 0, 6, 8, 4, 7, 5],\n",
       "       [2, 6, 9, 1, 8, 0, 4, 3, 7, 5],\n",
       "       [3, 9, 1, 2, 0, 6, 4, 8, 7, 5],\n",
       "       [4, 6, 7, 5, 2, 8, 9, 0, 1, 3],\n",
       "       [5, 7, 4, 6, 2, 8, 9, 3, 1, 0],\n",
       "       [6, 4, 2, 8, 7, 9, 5, 1, 0, 3],\n",
       "       [7, 5, 4, 6, 2, 8, 9, 3, 1, 0],\n",
       "       [8, 2, 6, 0, 4, 9, 1, 5, 7, 3],\n",
       "       [9, 1, 3, 2, 6, 0, 4, 8, 7, 5]], dtype=int64)"
      ]
     },
     "execution_count": 106,
     "metadata": {},
     "output_type": "execute_result"
    }
   ],
   "source": [
    "nearest = np.argsort(dist_sq, axis=1)\n",
    "nearest # первая колонка как раз даст номер нужной точки. так как минимальное расстояние это и сть нулевое"
   ]
  },
  {
   "cell_type": "code",
   "execution_count": 109,
   "metadata": {},
   "outputs": [
    {
     "data": {
      "text/plain": [
       "array([[2, 0, 1, 8, 9, 5, 6, 7, 3, 4],\n",
       "       [1, 9, 3, 2, 0, 5, 6, 7, 8, 4],\n",
       "       [2, 6, 9, 1, 8, 0, 5, 7, 3, 4],\n",
       "       [3, 9, 1, 2, 0, 5, 6, 7, 8, 4],\n",
       "       [7, 6, 4, 5, 8, 2, 9, 1, 3, 0],\n",
       "       [7, 5, 4, 6, 8, 2, 9, 1, 3, 0],\n",
       "       [4, 6, 2, 8, 7, 9, 5, 1, 3, 0],\n",
       "       [7, 5, 4, 6, 8, 2, 9, 1, 3, 0],\n",
       "       [2, 8, 6, 0, 4, 5, 1, 7, 3, 9],\n",
       "       [3, 1, 9, 2, 6, 0, 5, 7, 8, 4]], dtype=int64)"
      ]
     },
     "execution_count": 109,
     "metadata": {},
     "output_type": "execute_result"
    }
   ],
   "source": [
    "K = 2\n",
    "nearest_partition = np.argpartition(dist_sq, K+1, axis=1) # ибо матрица и так включает себя же)))\n",
    "nearest_partition\n"
   ]
  },
  {
   "cell_type": "code",
   "execution_count": 115,
   "metadata": {},
   "outputs": [
    {
     "data": {
      "image/png": "[encoded data removed]",
      "text/plain": [
       "<Figure size 432x288 with 1 Axes>"
      ]
     },
     "metadata": {},
     "output_type": "display_data"
    }
   ],
   "source": [
    "plt.scatter(X[:,0], X[:,1], s=100)\n",
    "K =2\n",
    "\n",
    "for i in range(X.shape[0]):\n",
    "    for j in nearest_partition[i, :K+1]:\n",
    "        # рисуем линию от i до j\n",
    "        plt.plot(*zip(X[j], X[i]))"
   ]
  }
 ],
 "metadata": {
  "kernelspec": {
   "display_name": "Python 3",
   "language": "python",
   "name": "python3"
  },
  "language_info": {
   "codemirror_mode": {
    "name": "ipython",
    "version": 3
   },
   "file_extension": ".py",
   "mimetype": "text/x-python",
   "name": "python",
   "nbconvert_exporter": "python",
   "pygments_lexer": "ipython3",
   "version": "3.6.8"
  }
 },
 "nbformat": 4,
 "nbformat_minor": 2
}
